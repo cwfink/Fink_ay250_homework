{
 "cells": [
  {
   "cell_type": "markdown",
   "metadata": {},
   "source": [
    "# Interaction with the World Homework (#3)\n",
    "Python Computing for Data Science (c) J Bloom, UC Berkeley 2018\n",
    "\n",
    "Due Tuesday 2pm, Feb 20, 2018"
   ]
  },
  {
   "cell_type": "markdown",
   "metadata": {},
   "source": [
    "# 1) Monty: The Python Siri\n",
    "\n",
    "Let's make a Siri-like program (call it Monty!) with the following properties:\n",
    "   - record your voice command\n",
    "   - use a webservice to parse that sound file into text\n",
    "   - based on what the text, take three different types of actions:\n",
    "       - send an email to yourself\n",
    "       - do some math\n",
    "       - tell a joke\n",
    "\n",
    "So for example, if you say \"Monty: email me with subject hello and body goodbye\", it will email you with the appropriate subject and body. If you say \"Monty: tell me a joke\" then it will go to the web and find a joke and print it for you. If you say, \"Monty: calculate two times three\" it should response with printing the number 6.\n",
    "\n",
    "Hint: you can use speed-to-text apps like Houndify (or, e.g., Google Speech https://cloud.google.com/speech/) to return the text (but not do the actions). You'll need to sign up for a free API and then follow documentation instructions for using the service within Python. "
   ]
  },
  {
   "cell_type": "code",
   "execution_count": 1,
   "metadata": {},
   "outputs": [],
   "source": [
    "# Populate our namespace\n",
    "import pyaudio\n",
    "import numpy as np\n",
    "import wave\n",
    "#from houndify import * \n",
    "import monty_key\n",
    "#pip install word2number #this is a package used to convert strings of written numbers to ints\n",
    "from word2number import w2n\n",
    "\n",
    "import houndify #class provided by houndify in order to interface with thier speach to text engine\n",
    "import time\n",
    "from bs4 import BeautifulSoup\n",
    "from urllib.request import urlopen\n",
    "import json\n",
    "\n",
    "\n"
   ]
  },
  {
   "cell_type": "code",
   "execution_count": 2,
   "metadata": {},
   "outputs": [],
   "source": [
    "#We define a function to record audio, we are recycling code from lecture\n",
    "\n",
    "def record_audio(length_of_recording ,file_name='' ,path = '',sample_rate = 16000):\n",
    "    \"\"\"\n",
    "    Takes input: \n",
    "    \n",
    "    length_of_recording: the desired lenth in seconds of the recording\n",
    "    path: the path for the .wav file to be saved, if not specified, it will \n",
    "    be saved in the current directory\n",
    "    file_name: the name of the .wav file to be saved, if not specified, it will\n",
    "    be named \"new_wave.wav\"\n",
    "    \n",
    "    sample_rate: Must be either 8kHz or 16kHz. If not specified, defaults to 16kHz\n",
    "    \n",
    "    Records audio from the building mic with sample rate of 44.1kHz for user defined length of time\n",
    "    A .wav file is then \n",
    "    \"\"\"\n",
    "    \n",
    "    #Check if user gave path/file name, if not, then given defaults\n",
    "    if len(file_name) != 0:    \n",
    "        WAVE_OUTPUT_FILENAME = path + file_name + '.wav'        \n",
    "    else:\n",
    "        WAVE_OUTPUT_FILENAME = path + \"new_wave.wav\"\n",
    "        \n",
    "    chunk = 1024\n",
    "    \n",
    "    FORMAT = pyaudio.paInt16\n",
    "    CHANNELS = 1\n",
    "    RATE = sample_rate\n",
    "    RECORD_SECONDS = length_of_recording                \n",
    "    p = pyaudio.PyAudio()\n",
    "    print(\"* Starting recording\")\n",
    "    stream = p.open(format = FORMAT,\n",
    "        channels = CHANNELS,\n",
    "        rate = RATE,\n",
    "        input = True,\n",
    "        frames_per_buffer = chunk)\n",
    "    all = []\n",
    "    #for i in range(0, int(RATE / chunk * RECORD_SECONDS)):\n",
    "    try:\n",
    "        while True:\n",
    "            data = stream.read(chunk)\n",
    "            all.append(data)\n",
    "    except:\n",
    "        KeyboardInterrupt\n",
    "            \n",
    "    print(\"* done recording\")\n",
    "    stream.close()\n",
    "    p.terminate()\n",
    "    \n",
    "    data = b\"\".join(all)\n",
    "    wf = wave.open(WAVE_OUTPUT_FILENAME, \"wb\")\n",
    "    wf.setnchannels(CHANNELS)\n",
    "    wf.setsampwidth(p.get_sample_size(FORMAT))\n",
    "    wf.setframerate(RATE)\n",
    "    wf.writeframes(data)\n",
    "    wf.close()\n",
    "    \n",
    "    return data\n",
    "    \n"
   ]
  },
  {
   "cell_type": "code",
   "execution_count": null,
   "metadata": {},
   "outputs": [],
   "source": []
  },
  {
   "cell_type": "code",
   "execution_count": 3,
   "metadata": {},
   "outputs": [],
   "source": [
    "def convert_to_text(file_name):\n",
    "    \"\"\"\n",
    "    Modified code provided by Houndify that \n",
    "    uses the Houndify class to connect to thier\n",
    "    speach to text engine to convert provided .wav files to \n",
    "    text.\n",
    "    \n",
    "    Inputs:\n",
    "    file_name: name of .wav file (and path if not in same directory) to converted\n",
    "    to text\n",
    "    \n",
    "    Returns:\n",
    "    words: the text returned by Houndify parsed into a list of words\n",
    "    \n",
    "    \"\"\"\n",
    "\n",
    "    #fname = 'houndify_python3_sdk_1.0.0/test_audio/whatistheweatherthere.wav'\n",
    "    file_name = file_name + '.wav'\n",
    "    CLIENT_ID = monty_key.Client_ID\n",
    "    CLIENT_KEY = monty_key.Client_Key\n",
    "    AUDIO_FILE = file_name\n",
    "    BUFFER_SIZE = 512\n",
    "\n",
    "    \n",
    "\n",
    "    client = houndify.StreamingHoundClient(CLIENT_ID, CLIENT_KEY, \"monty\")\n",
    "    \n",
    "\n",
    "    #checks to make sure the audio meets the correct criteria to use Houndify\n",
    "    audio = wave.open(AUDIO_FILE)\n",
    "    if audio.getsampwidth() != 2:\n",
    "      print(\"%s: wrong sample width (must be 16-bit)\" % file_name)\n",
    "    if audio.getframerate() != 8000 and audio.getframerate() != 16000:\n",
    "      print(\"%s: unsupported sampling frequency (must be either 8 or 16 khz)\" % file_name)\n",
    "    if audio.getnchannels() != 1:\n",
    "      print(\"%s: must be single channel (mono)\" % file_name)\n",
    "\n",
    "    client.setSampleRate(audio.getframerate())\n",
    "    client.start()\n",
    "\n",
    "    while True:\n",
    "      samples = audio.readframes(BUFFER_SIZE)\n",
    "      if len(samples) == 0: break\n",
    "      if client.fill(samples): break\n",
    "      time.sleep(0.032) # simulate real-time so we can see the partial transcripts\n",
    "    \n",
    "    results = client.finish() # returns either final response or error\n",
    "    \n",
    "    #print(results)\n",
    "    \n",
    "    text = results['AllResults'][0]['RawTranscription']#['SpokenResponse']\n",
    "    words = text.split()\n",
    "    return words\n"
   ]
  },
  {
   "cell_type": "code",
   "execution_count": 4,
   "metadata": {},
   "outputs": [],
   "source": [
    "def get_joke():\n",
    "    base_url = \"https://api.whatdoestrumpthink.com/api/v1/quotes/random\"\n",
    "    url = base_url\n",
    "    json_result = json.loads(urlopen(url).read().decode(\"UTF-8\"))\n",
    "    joke = 'A quote from the President of the United States: \\n' + json_result['message']\n",
    "    return joke"
   ]
  },
  {
   "cell_type": "code",
   "execution_count": 6,
   "metadata": {},
   "outputs": [],
   "source": [
    "def do_task(words):\n",
    "    print(words)\n",
    "    email_key = ['mail','email','send','subject','body']\n",
    "    joke_key = ['joke']\n",
    "    math_operations = {'times': '*',\n",
    "                       'multiply':'*', \n",
    "                       'add':'+',\n",
    "                       'plus':'+',\n",
    "                       'sum':'+',\n",
    "                       'subtract':'-',\n",
    "                       'minus':'-',\n",
    "                       'divide':'/',\n",
    "                       'divided':'/',\n",
    "                       'negative':'-',\n",
    "                       'point':'.'}\n",
    "\n",
    "    numbers = list()\n",
    "\n",
    "    if any(keyword in words for keyword in email_key):\n",
    "        print('send email')\n",
    "    elif any(keyword in words for keyword in joke_key):\n",
    "        joke = get_joke()\n",
    "        return joke\n",
    "    elif any(keyword in words for keyword in math_operations.keys()):\n",
    "        print('Let\\'s do some math!')\n",
    "        for word in words:\n",
    "            for key in math_operations.keys():\n",
    "                if word == key:\n",
    "                    operation = math_operations[word]\n",
    "                    good_key = key\n",
    "                    \n",
    "        for word in words:        \n",
    "            try: \n",
    "                temp_number = w2n.word_to_num(word)\n",
    "                numbers.append(temp_number)\n",
    "            except ValueError:\n",
    "                \n",
    "                if word == good_key:\n",
    "                    temp_number = operation\n",
    "                    numbers.append(temp_number)\n",
    "                #else:\n",
    "                #    temp_number = 0\n",
    "\n",
    "            \n",
    "\n",
    "        \n",
    "        new_numbers = list()\n",
    "        \n",
    "        for iNumber in range(1,len(numbers)):\n",
    "            \n",
    "            if type(numbers[iNumber-1]) == int and type(numbers[iNumber]) == int:\n",
    "                #print('----- both ints -----')\n",
    "                #print('index: ', iNumber-1, ' value: ', numbers[iNumber-1])\n",
    "                #print('index: ', iNumber, ' value: ', numbers[iNumber])\n",
    "                new_numbers.append(numbers[iNumber-1])\n",
    "                new_numbers.append('+')\n",
    "            elif type(numbers[iNumber-1]) == int and type(numbers[iNumber])== str:\n",
    "                #print('----- int and str -----')\n",
    "                #print('index: ', iNumber-1, ' value: ', numbers[iNumber-1])\n",
    "                #print('index: ', iNumber, ' value: ', numbers[iNumber])\n",
    "                new_numbers.append(numbers[iNumber-1])\n",
    "            elif type(numbers[iNumber-1]) == str and type(numbers[iNumber])== int:\n",
    "                #print('----- str and int -----')\n",
    "                #print('index: ', iNumber-1, ' value: ', numbers[iNumber-1])\n",
    "                new_numbers.append(numbers[iNumber-1])\n",
    "            #else:\n",
    "            #    print('--- this was called?---')\n",
    "            #    new_numbers.append(numbers[iNumber])\n",
    "        new_numbers.append(numbers[-1])\n",
    "        numbers_str = ''.join(map(str, new_numbers))\n",
    "        answer = eval(numbers_str)\n",
    "        return_str = 'The Anwer is: ' +str(answer)\n",
    "        \n",
    "        #print(numbers)\n",
    "        #print(operation)\n",
    "        #print(eval(str(numbers[0])+ operation +str(numbers[1])))\n",
    "        return return_str\n",
    "    \n",
    "    "
   ]
  },
  {
   "cell_type": "code",
   "execution_count": 8,
   "metadata": {},
   "outputs": [
    {
     "name": "stdout",
     "output_type": "stream",
     "text": [
      "* Starting recording\n",
      "* done recording\n",
      "['what', 'is', 'ten', 'times', 'point', 'five']\n",
      "Let's do some math!\n",
      "The Anwer is: 15\n"
     ]
    }
   ],
   "source": [
    "file_name = 'joke'\n",
    "time_for_recording = 3\n",
    "data = record_audio(time_for_recording, file_name )\n",
    "#time.sleep(time_for_recording)\n",
    "words = convert_to_text(file_name)\n",
    "return_str = do_task(words)\n",
    "print(return_str)\n",
    "\n"
   ]
  },
  {
   "cell_type": "code",
   "execution_count": 244,
   "metadata": {},
   "outputs": [
    {
     "name": "stdout",
     "output_type": "stream",
     "text": [
      "what is two hundred divided by five\n",
      "205\n"
     ]
    }
   ],
   "source": [
    "\n",
    "numbers = ['what', 'is', 'two', 'hundred', 'divided', 'by', 'five']\n",
    "my_lst_str = ' '.join(map(str, numbers))\n",
    "print(my_lst_str)\n",
    "print(w2n.word_to_num(my_lst_str))"
   ]
  },
  {
   "cell_type": "markdown",
   "metadata": {},
   "source": [
    "# 2) Write a program that identifies musical notes from sound (AIFF) files. \n",
    "\n",
    "  - Run it on the supplied sound files (12) and report your program’s results. \n",
    "  - Use the labeled sounds (4) to make sure it works correctly. The provided sound files contain 1-3 simultaneous notes from different organs.\n",
    "  - Save copies of any example plots to illustrate how your program works.\n",
    "  \n",
    "  https://piazza.com/berkeley/spring2018/ay250class13410/resources -> Homeworks -> hw3_sound_files.zip"
   ]
  },
  {
   "cell_type": "code",
   "execution_count": 39,
   "metadata": {},
   "outputs": [
    {
     "name": "stdout",
     "output_type": "stream",
     "text": [
      "2003984\n"
     ]
    },
    {
     "data": {
      "text/plain": [
       "['times', 'multiply', 'add', 'plus', 'subtract', 'minus', 'divide']"
      ]
     },
     "execution_count": 39,
     "metadata": {},
     "output_type": "execute_result"
    }
   ],
   "source": [
    "from word2number import w2n\n",
    "\n",
    "print(w2n.word_to_num(\"two million three thousand nine hundred and eighty four\"))\n",
    "[key for key in math_operations.keys()]"
   ]
  },
  {
   "cell_type": "markdown",
   "metadata": {},
   "source": [
    "Hints: You’ll want to decompose the sound into a frequency power spectrum. Use a Fast Fourier Transform. Be care about “unpacking” the string hexcode into python data structures. The sound files use 32 bit data. Play around with what happens when you convert the string data to other integer sizes, or signed vs unsigned integers. Also, beware of harmonics."
   ]
  },
  {
   "cell_type": "code",
   "execution_count": 66,
   "metadata": {},
   "outputs": [
    {
     "ename": "SyntaxError",
     "evalue": "invalid character in identifier (<ipython-input-66-1f1bda52e89e>, line 8)",
     "output_type": "error",
     "traceback": [
      "\u001b[0;36m  File \u001b[0;32m\"<ipython-input-66-1f1bda52e89e>\"\u001b[0;36m, line \u001b[0;32m8\u001b[0m\n\u001b[0;31m    name_box = soup.find(‘div’, attrs={‘class’: ‘content’})\u001b[0m\n\u001b[0m                             ^\u001b[0m\n\u001b[0;31mSyntaxError\u001b[0m\u001b[0;31m:\u001b[0m invalid character in identifier\n"
     ]
    }
   ],
   "source": [
    "\n",
    "url = \"http://www.dadjokegenerator.com/\"\n",
    "response = urlopen(url)\n",
    "html = response.read()\n",
    "response.close()\n",
    "soup = BeautifulSoup(html,\"html.parser\")\n",
    "table = soup.findAll(\"table\")[0].find_all('td')\n",
    "name_box = soup.find(‘div’, attrs={‘class’: ‘content’})\n",
    "name = name_box.text.strip()\n"
   ]
  },
  {
   "cell_type": "code",
   "execution_count": 61,
   "metadata": {},
   "outputs": [
    {
     "data": {
      "text/plain": [
       "'<!DOCTYPE HTML PUBLIC \"-//W3C//DTD HTML 4.01//EN\"\\n          \"http://www.w3.org/TR/html4/strict.dtd\">\\n\\n<html lang=\"en\">\\n<head>\\n    <meta http-equiv=\"Content-Type\" content=\"text/html; charset=utf-8\">\\n\\t<meta name=\"viewport\" content=\"user-scalable=no,  initial-scale=1.0, maximum-scale=1.0, minimal-ui\"/>\\n\\t<meta name=\"apple-mobile-web-app-capable\" content=\"yes\">\\n\\t<meta name=\"apple-mobile-web-app-status-bar-style\" content=\"black\" />\\n    <title>Dad Jokes!</title>\\n\\t<link rel=\"apple-touch-icon\" href=\"/logo-square.png\">\\n\\t<link href=\"//fonts.googleapis.com/css?family=Open+Sans:300italic,300,400italic,400,600italic,600,700italic,700,800italic,800\" rel=\"stylesheet\" type=\"text/css\">\\n    <link href=\"css/main.css\" rel=\"stylesheet\" type=\"text/css\"/>\\n\\t<script type=\"text/javascript\" src=\"/js/jquery.min.js\"></script>\\n\\t<script type=\"text/javascript\" src=\"js/lib.js\"></script>\\n\\t<script type=\"text/javascript\" src=\"js/main.js\"></script>\\n    <!-- Date: 2014-02-19 -->\\n</head>\\n<body>\\n<div id=\"spinner\" class=\"spinner-img\" style=\"display:none;\"></div>\\n<div id=\"dotty\" class=\"loading-dots\"><span>Asking Dad</span><div class=\"dots\"></div></div>\\n<div id=\"rotate\">\\n\\t<span class=\"warning\">Dad only likes Portrait Mode!</span>\\n\\t<span class=\"rotate-device-img\"></span>\\n</div>  \\n<div id=\"share\" class=\"exit-top no-select\">\\n\\t<div class=\"top-bar\">Share This Dad Joke!</div>\\n\\t<div class=\"content\">\\n\\t\\t<div class=\"facebook-img share-button\" dest=\"facebook\"></div>\\n\\t\\t<div class=\"twitter-img share-button\" dest=\"twitter\"></div>\\n\\t\\t<div class=\"googleplus-img share-button\" dest=\"googleplus\"></div>\\n\\t</div>\\n</div>\\n<div id=\"overlay\">\\n\\n</div>\\n<div id=\"content\">\\n\\t<div class=\"marquee\"><img src=\"logo.png\" /></div>\\n\\t<div id=\"joke\">\\n\\t\\t<div id=\"setup\" class=\"exit-left\"></div>\\n\\t\\t\\n\\t\\t<div id=\"punchline\">\\n\\t\\t\\t<div class=\"question\"></div>\\n\\t\\t\\t<div id=\"zing\" class=\"exit-right\"></div>\\n\\t\\t</div>\\n\\t</div>\\n\\t<div id=\"buttons\">\\n\\t\\t<input id=\"tell-me\" class=\"exit-bottom no-select\" type=\"button\" value=\"Tell Me!\" />\\n\\t\\t<!--<input id=\"another\" class=\"exit-bottom\" type=\"button\" value=\"Another!\" />-->\\n\\t\\t<table class=\"another exit-bottom no-select\">\\n\\t\\t\\t<tr>\\n\\t\\t\\t\\t<td class=\"another\" colspan=\"3\">Another</td>\\n\\t\\t\\t\\t<td class=\"share\"><div class=\"share-img\"></div>Share</td>\\n\\t\\t\\t</tr>\\n\\t\\t</table>\\n\\t</div>\\n</div>\\n</body>\\n</html>\\n'"
      ]
     },
     "execution_count": 61,
     "metadata": {},
     "output_type": "execute_result"
    }
   ],
   "source": [
    "import urllib.request\n",
    "\n",
    "request = urllib.request.Request(url)\n",
    "response = urllib.request.urlopen(request)\n",
    "the_page = response.read()\n",
    "theText = the_page.decode()\n",
    "theText"
   ]
  },
  {
   "cell_type": "code",
   "execution_count": 8,
   "metadata": {},
   "outputs": [
    {
     "data": {
      "text/plain": [
       "100"
      ]
     },
     "execution_count": 8,
     "metadata": {},
     "output_type": "execute_result"
    }
   ],
   "source": []
  },
  {
   "cell_type": "code",
   "execution_count": 10,
   "metadata": {},
   "outputs": [
    {
     "data": {
      "text/plain": [
       "100.5"
      ]
     },
     "execution_count": 10,
     "metadata": {},
     "output_type": "execute_result"
    }
   ],
   "source": []
  },
  {
   "cell_type": "code",
   "execution_count": null,
   "metadata": {
    "collapsed": true
   },
   "outputs": [],
   "source": []
  }
 ],
 "metadata": {
  "kernelspec": {
   "display_name": "Python 3",
   "language": "python",
   "name": "python3"
  },
  "language_info": {
   "codemirror_mode": {
    "name": "ipython",
    "version": 3
   },
   "file_extension": ".py",
   "mimetype": "text/x-python",
   "name": "python",
   "nbconvert_exporter": "python",
   "pygments_lexer": "ipython3",
   "version": "3.6.3"
  }
 },
 "nbformat": 4,
 "nbformat_minor": 1
}
