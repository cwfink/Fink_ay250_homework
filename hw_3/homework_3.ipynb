{
 "cells": [
  {
   "cell_type": "markdown",
   "metadata": {},
   "source": [
    "# Interaction with the World Homework (#3)\n",
    "Python Computing for Data Science (c) J Bloom, UC Berkeley 2018\n",
    "\n",
    "Due Tuesday 2pm, Feb 20, 2018"
   ]
  },
  {
   "cell_type": "markdown",
   "metadata": {},
   "source": [
    "# 1) Monty: The Python Siri\n",
    "\n",
    "Let's make a Siri-like program (call it Monty!) with the following properties:\n",
    "   - record your voice command\n",
    "   - use a webservice to parse that sound file into text\n",
    "   - based on what the text, take three different types of actions:\n",
    "       - send an email to yourself\n",
    "       - do some math\n",
    "       - tell a joke\n",
    "\n",
    "So for example, if you say \"Monty: email me with subject hello and body goodbye\", it will email you with the appropriate subject and body. If you say \"Monty: tell me a joke\" then it will go to the web and find a joke and print it for you. If you say, \"Monty: calculate two times three\" it should response with printing the number 6.\n",
    "\n",
    "Hint: you can use speed-to-text apps like Houndify (or, e.g., Google Speech https://cloud.google.com/speech/) to return the text (but not do the actions). You'll need to sign up for a free API and then follow documentation instructions for using the service within Python. "
   ]
  },
  {
   "cell_type": "code",
   "execution_count": 5,
   "metadata": {
    "collapsed": true
   },
   "outputs": [],
   "source": [
    "# Populate our namespace\n",
    "import pyaudio\n",
    "import numpy as np\n",
    "import wave\n",
    "#from houndify import * \n",
    "import monty_key\n",
    "#pip install word2number #this is a package used to convert strings of written numbers to ints\n",
    "from word2number import w2n\n",
    "\n",
    "import houndify #class provided by houndify in order to interface with thier speach to text engine\n",
    "import time\n",
    "from bs4 import BeautifulSoup\n",
    "from urllib.request import urlopen\n",
    "import json\n",
    "\n",
    "\n"
   ]
  },
  {
   "cell_type": "code",
   "execution_count": 6,
   "metadata": {
    "collapsed": true
   },
   "outputs": [],
   "source": [
    "#We define a function to record audio, we are recycling code from lecture\n",
    "\n",
    "def record_audio(length_of_recording ,file_name='' ,path = '',sample_rate = 16000):\n",
    "    \"\"\"\n",
    "    Takes input: \n",
    "    \n",
    "    length_of_recording: the desired lenth in seconds of the recording\n",
    "    path: the path for the .wav file to be saved, if not specified, it will \n",
    "    be saved in the current directory\n",
    "    file_name: the name of the .wav file to be saved, if not specified, it will\n",
    "    be named \"new_wave.wav\"\n",
    "    \n",
    "    sample_rate: Must be either 8kHz or 16kHz. If not specified, defaults to 16kHz\n",
    "    \n",
    "    Records audio from the building mic with sample rate of 44.1kHz for user defined length of time\n",
    "    A .wav file is then \n",
    "    \"\"\"\n",
    "    \n",
    "    #Check if user gave path/file name, if not, then given defaults\n",
    "    if len(file_name) != 0:    \n",
    "        WAVE_OUTPUT_FILENAME = path + file_name + '.wav'        \n",
    "    else:\n",
    "        WAVE_OUTPUT_FILENAME = path + \"new_wave.wav\"\n",
    "        \n",
    "    chunk = 1024\n",
    "    \n",
    "    FORMAT = pyaudio.paInt16\n",
    "    CHANNELS = 1\n",
    "    RATE = sample_rate\n",
    "    RECORD_SECONDS = length_of_recording                \n",
    "    p = pyaudio.PyAudio()\n",
    "    print(\"* Starting recording\")\n",
    "    stream = p.open(format = FORMAT,\n",
    "        channels = CHANNELS,\n",
    "        rate = RATE,\n",
    "        input = True,\n",
    "        frames_per_buffer = chunk)\n",
    "    all = []\n",
    "    #for i in range(0, int(RATE / chunk * RECORD_SECONDS)):\n",
    "    try:\n",
    "        while True:\n",
    "            data = stream.read(chunk)\n",
    "            all.append(data)\n",
    "    except:\n",
    "        KeyboardInterrupt\n",
    "            \n",
    "    print(\"* done recording\")\n",
    "    stream.close()\n",
    "    p.terminate()\n",
    "    \n",
    "    data = b\"\".join(all)\n",
    "    wf = wave.open(WAVE_OUTPUT_FILENAME, \"wb\")\n",
    "    wf.setnchannels(CHANNELS)\n",
    "    wf.setsampwidth(p.get_sample_size(FORMAT))\n",
    "    wf.setframerate(RATE)\n",
    "    wf.writeframes(data)\n",
    "    wf.close()\n",
    "    \n",
    "    return data\n",
    "    \n"
   ]
  },
  {
   "cell_type": "code",
   "execution_count": null,
   "metadata": {
    "collapsed": true
   },
   "outputs": [],
   "source": []
  },
  {
   "cell_type": "code",
   "execution_count": 7,
   "metadata": {
    "collapsed": true
   },
   "outputs": [],
   "source": [
    "def convert_to_text(file_name):\n",
    "    \"\"\"\n",
    "    Modified code provided by Houndify that \n",
    "    uses the Houndify class to connect to thier\n",
    "    speach to text engine to convert provided .wav files to \n",
    "    text.\n",
    "    \n",
    "    Inputs:\n",
    "    file_name: name of .wav file (and path if not in same directory) to converted\n",
    "    to text\n",
    "    \n",
    "    Returns:\n",
    "    words: the text returned by Houndify parsed into a list of words\n",
    "    \n",
    "    \"\"\"\n",
    "\n",
    "    #fname = 'houndify_python3_sdk_1.0.0/test_audio/whatistheweatherthere.wav'\n",
    "    file_name = file_name + '.wav'\n",
    "    CLIENT_ID = monty_key.Client_ID\n",
    "    CLIENT_KEY = monty_key.Client_Key\n",
    "    AUDIO_FILE = file_name\n",
    "    BUFFER_SIZE = 512\n",
    "\n",
    "    \n",
    "\n",
    "    client = houndify.StreamingHoundClient(CLIENT_ID, CLIENT_KEY, \"monty\")\n",
    "    \n",
    "\n",
    "    #checks to make sure the audio meets the correct criteria to use Houndify\n",
    "    audio = wave.open(AUDIO_FILE)\n",
    "    if audio.getsampwidth() != 2:\n",
    "      print(\"%s: wrong sample width (must be 16-bit)\" % file_name)\n",
    "    if audio.getframerate() != 8000 and audio.getframerate() != 16000:\n",
    "      print(\"%s: unsupported sampling frequency (must be either 8 or 16 khz)\" % file_name)\n",
    "    if audio.getnchannels() != 1:\n",
    "      print(\"%s: must be single channel (mono)\" % file_name)\n",
    "\n",
    "    client.setSampleRate(audio.getframerate())\n",
    "    client.start()\n",
    "\n",
    "    while True:\n",
    "      samples = audio.readframes(BUFFER_SIZE)\n",
    "      if len(samples) == 0: break\n",
    "      if client.fill(samples): break\n",
    "      time.sleep(0.032) # simulate real-time so we can see the partial transcripts\n",
    "    \n",
    "    results = client.finish() # returns either final response or error\n",
    "    \n",
    "    #print(results)\n",
    "    \n",
    "    text = results['AllResults'][0]['RawTranscription']#['SpokenResponse']\n",
    "    words = text.split()\n",
    "    return words\n"
   ]
  },
  {
   "cell_type": "code",
   "execution_count": 8,
   "metadata": {
    "collapsed": true
   },
   "outputs": [],
   "source": [
    "def get_joke():\n",
    "    base_url = \"https://api.whatdoestrumpthink.com/api/v1/quotes/random\"\n",
    "    url = base_url\n",
    "    json_result = json.loads(urlopen(url).read().decode(\"UTF-8\"))\n",
    "    joke = 'A quote from the President of the United States: \\n' + json_result['message']\n",
    "    return joke"
   ]
  },
  {
   "cell_type": "code",
   "execution_count": 9,
   "metadata": {
    "collapsed": true
   },
   "outputs": [],
   "source": [
    "def do_task(words):\n",
    "    print(words)\n",
    "    email_key = ['mail','email','send','subject','body']\n",
    "    joke_key = ['joke']\n",
    "    math_operations = {'times': '*',\n",
    "                       'multiply':'*', \n",
    "                       'add':'+',\n",
    "                       'plus':'+',\n",
    "                       'sum':'+',\n",
    "                       'subtract':'-',\n",
    "                       'minus':'-',\n",
    "                       'divide':'/',\n",
    "                       'divided':'/',\n",
    "                       'negative':'-',\n",
    "                       'point':'.'}\n",
    "\n",
    "    numbers = list()\n",
    "\n",
    "    if any(keyword in words for keyword in email_key):\n",
    "        print('send email')\n",
    "    elif any(keyword in words for keyword in joke_key):\n",
    "        joke = get_joke()\n",
    "        return joke\n",
    "    elif any(keyword in words for keyword in math_operations.keys()):\n",
    "        print('Let\\'s do some math!')\n",
    "        for word in words:\n",
    "            for key in math_operations.keys():\n",
    "                if word == key:\n",
    "                    operation = math_operations[word]\n",
    "                    good_key = key\n",
    "                    \n",
    "        for word in words:        \n",
    "            try: \n",
    "                temp_number = w2n.word_to_num(word)\n",
    "                numbers.append(temp_number)\n",
    "            except ValueError:\n",
    "                \n",
    "                if word == good_key:\n",
    "                    temp_number = operation\n",
    "                    numbers.append(temp_number)\n",
    "                #else:\n",
    "                #    temp_number = 0\n",
    "\n",
    "            \n",
    "\n",
    "        \n",
    "        new_numbers = list()\n",
    "        \n",
    "        for iNumber in range(1,len(numbers)):\n",
    "            \n",
    "            if type(numbers[iNumber-1]) == int and type(numbers[iNumber]) == int:\n",
    "                #print('----- both ints -----')\n",
    "                #print('index: ', iNumber-1, ' value: ', numbers[iNumber-1])\n",
    "                #print('index: ', iNumber, ' value: ', numbers[iNumber])\n",
    "                new_numbers.append(numbers[iNumber-1])\n",
    "                new_numbers.append('+')\n",
    "            elif type(numbers[iNumber-1]) == int and type(numbers[iNumber])== str:\n",
    "                #print('----- int and str -----')\n",
    "                #print('index: ', iNumber-1, ' value: ', numbers[iNumber-1])\n",
    "                #print('index: ', iNumber, ' value: ', numbers[iNumber])\n",
    "                new_numbers.append(numbers[iNumber-1])\n",
    "            elif type(numbers[iNumber-1]) == str and type(numbers[iNumber])== int:\n",
    "                #print('----- str and int -----')\n",
    "                #print('index: ', iNumber-1, ' value: ', numbers[iNumber-1])\n",
    "                new_numbers.append(numbers[iNumber-1])\n",
    "            #else:\n",
    "            #    print('--- this was called?---')\n",
    "            #    new_numbers.append(numbers[iNumber])\n",
    "        new_numbers.append(numbers[-1])\n",
    "        numbers_str = ''.join(map(str, new_numbers))\n",
    "        answer = eval(numbers_str)\n",
    "        return_str = 'The Anwer is: ' +str(answer)\n",
    "        \n",
    "        #print(numbers)\n",
    "        #print(operation)\n",
    "        #print(eval(str(numbers[0])+ operation +str(numbers[1])))\n",
    "        return return_str\n",
    "    \n",
    "    "
   ]
  },
  {
   "cell_type": "code",
   "execution_count": 10,
   "metadata": {},
   "outputs": [
    {
     "name": "stdout",
     "output_type": "stream",
     "text": [
      "* Starting recording\n",
      "* done recording\n",
      "['manti', 'tell', 'me', 'a', 'joke']\n",
      "A quote from the President of the United States: \n",
      "You know the funny thing? I don't get along with rich people.\n"
     ]
    }
   ],
   "source": [
    "file_name = 'joke'\n",
    "time_for_recording = 3\n",
    "data = record_audio(time_for_recording, file_name )\n",
    "#time.sleep(time_for_recording)\n",
    "words = convert_to_text(file_name)\n",
    "return_str = do_task(words)\n",
    "print(return_str)\n",
    " \n"
   ]
  },
  {
   "cell_type": "code",
   "execution_count": 244,
   "metadata": {},
   "outputs": [
    {
     "name": "stdout",
     "output_type": "stream",
     "text": [
      "what is two hundred divided by five\n",
      "205\n"
     ]
    }
   ],
   "source": [
    "\n",
    "numbers = ['what', 'is', 'two', 'hundred', 'divided', 'by', 'five']\n",
    "my_lst_str = ' '.join(map(str, numbers))\n",
    "print(my_lst_str)\n",
    "print(w2n.word_to_num(my_lst_str))"
   ]
  },
  {
   "cell_type": "markdown",
   "metadata": {},
   "source": [
    "# 2) Write a program that identifies musical notes from sound (AIFF) files. \n",
    "\n",
    "  - Run it on the supplied sound files (12) and report your program’s results. \n",
    "  - Use the labeled sounds (4) to make sure it works correctly. The provided sound files contain 1-3 simultaneous notes from different organs.\n",
    "  - Save copies of any example plots to illustrate how your program works.\n",
    "  \n",
    "  https://piazza.com/berkeley/spring2018/ay250class13410/resources -> Homeworks -> hw3_sound_files.zip"
   ]
  },
  {
   "cell_type": "markdown",
   "metadata": {},
   "source": [
    "$\\textbf{$\\Large$ Explination of algorithm}$. For this problem, I will import each audio file, sum the left and right channels to make the audio mono, and then compute the power spectrum of each file. The frequncies are calculated based on the sample rate of the files. Since the human ear percieves pitch logarithmically, I convert the frequency axis to midi number. This can be done by recognizing that octives follow a geometric progression, an there are 12 semitones (half notes) in an octive. We can use this to map frequencies to midi numbers (0-127) each of which corresponds to a musical note. \n",
    "$$\n",
    "m = 12\\log_2\\left(\\frac{f}{A_4}\\right)\n",
    "$$\n",
    "The flaw in doing this is that this scaling assumes equal temperment, meaning the 12 notes per octive on the instrument in question are equally spaced, this is not the case for most standard instruments. This means that for certian notes, if the instrument is somewhat out of tune, the note could be potentially mislabled. "
   ]
  },
  {
   "cell_type": "code",
   "execution_count": 1,
   "metadata": {
    "scrolled": true
   },
   "outputs": [],
   "source": [
    "#populate the namespace\n",
    "\n",
    "#pip install SoundFile #This is used to read in the audio files\n",
    "import soundfile as sf\n",
    "import numpy as np\n",
    "%matplotlib notebook\n",
    "import matplotlib.pyplot as plt\n",
    "from scipy import fftpack as fft\n",
    "from os import listdir\n",
    "import os\n",
    "import seaborn as sns\n",
    "import scipy.signal as signal\n",
    "\n",
    "sns.set_style('darkgrid')\n",
    "\n"
   ]
  },
  {
   "cell_type": "markdown",
   "metadata": {},
   "source": [
    "Hints: You’ll want to decompose the sound into a frequency power spectrum. Use a Fast Fourier Transform. Be care about “unpacking” the string hexcode into python data structures. The sound files use 32 bit data. Play around with what happens when you convert the string data to other integer sizes, or signed vs unsigned integers. Also, beware of harmonics."
   ]
  },
  {
   "cell_type": "code",
   "execution_count": 82,
   "metadata": {},
   "outputs": [],
   "source": [
    "def return_note_name(freq):\n",
    "    step = convert_to_half_steps(freq)\n",
    "    notes = ['C','C#','D','D#','E','F','F#','G','G#','A','A#','B']\n",
    "    octive_number = step // 12 - 1\n",
    "    note_name = step % 12\n",
    "    return notes[note_name]+str(octive_number)\n",
    "\n",
    "\n",
    "def convert_to_half_steps(freq):\n",
    "    #C0 = 16.35 #Hz, defined from the standard A440 tuning\n",
    "    A4 = 440\n",
    "    C0 = A4\n",
    "    half_step = np.round(12*np.log2(freq/C0)) + 69\n",
    "    half_step = half_step.astype(np.int16)\n",
    "    return half_step\n",
    "\n",
    "def convert_to_freq(m):\n",
    "    A4 = 440\n",
    "    freq = A4*2**((m-69)/12)\n",
    "    return freq\n",
    "\n",
    "def remove_dupes(notes):\n",
    "    good_notes = list()\n",
    "    #print(notes)\n",
    "    fundamental = np.min(notes)\n",
    "    good_notes.append(fundamental)\n",
    "    for note in notes:\n",
    "        if np.abs(1-((note/fundamental)%1)) >= 0.01:\n",
    "            if (note/fundamental)%1 != 0.0:\n",
    "                good_notes.append(note)\n",
    "    \n",
    "    return good_notes\n",
    "            \n",
    "def find_notes(freqs, power_spectrum):\n",
    "    \n",
    "    weighting = 0.2\n",
    "    freqs_to_keep = list()\n",
    "    final_notes = list()\n",
    "    \n",
    "    cut_off = np.ones(len(half_steps))*weighting*np.max(power_spectrum)\n",
    "    #print(cut_off[0])\n",
    "    indx = np.where(power_spectrum>cut_off)\n",
    "    half_steps_to_keep = set(half_steps[indx])\n",
    "    #print(half_steps_to_keep)\n",
    "    for step in half_steps_to_keep:\n",
    "        freqs_to_keep.append(convert_to_freq(step))\n",
    "      \n",
    "    freqs_no_dupes = remove_dupes(freqs_to_keep)\n",
    "    \n",
    "    for fn in freqs_no_dupes:\n",
    "        final_notes.append(return_note_name(fn))\n",
    "    return final_notes\n"
   ]
  },
  {
   "cell_type": "code",
   "execution_count": 67,
   "metadata": {},
   "outputs": [
    {
     "name": "stderr",
     "output_type": "stream",
     "text": [
      "/Users/cwfink/anaconda3/envs/bootcamp-env/lib/python3.6/site-packages/ipykernel_launcher.py:13: RuntimeWarning: divide by zero encountered in log2\n",
      "  del sys.path[0]\n"
     ]
    }
   ],
   "source": [
    "#Import all the files in a directory\n",
    "\n",
    "path = 'data/sound_files/'\n",
    "\n",
    "data_files = {}\n",
    "\n",
    "for file in listdir(path):\n",
    "    filename, file_extension = os.path.splitext(file)\n",
    "    if file_extension == '.aif':\n",
    "        data, fs = sf.read(path+file, dtype='int32')\n",
    "        data_files[file] = [fs,data[:,0]+data[:,1]] #add the sample rate and the data to a dictionary, also make the stereo data mono\n",
    "    \n",
    "\n",
    "    \n",
    "    \n",
    "N = len(data_files['1.aif'][1])\n",
    "freqs = fft.rfftfreq(N, d = 1/data_files['1.aif'][0])    \n",
    "    \n",
    "index_keep = np.where(freqs >= 0 ) #Trim off values below the lowest musical note\n",
    "\n",
    "\n",
    "#print(index_keep)\n",
    "\n",
    "note_list = list()\n",
    "half_steps = convert_to_half_steps(freqs[index_keep]) #convert frequencies to midi number\n",
    "\n",
    "# Now create a dictionary for the power spectra\n",
    "\n",
    "power_spectra = {}\n",
    "for key in data_files.keys():\n",
    "\n",
    "    power_spec = np.abs(fft.rfft(data_files[key][1][index_keep]))**2\n",
    "    #cut_off = np.ones(len(half_steps))*.5*np.max(power_spec)\n",
    "    power_spectra[key] = power_spec\n",
    "\n"
   ]
  },
  {
   "cell_type": "code",
   "execution_count": 85,
   "metadata": {},
   "outputs": [
    {
     "name": "stdout",
     "output_type": "stream",
     "text": [
      "{'C4+A4_PopOrgan.aif': ['C4', 'A4'], 'A4_PopOrgan.aif': ['A4'], '8.aif': ['F4'], '9.aif': ['G3'], 'F3_PopOrgan.aif': ['F3'], '11.aif': ['E2'], '10.aif': ['C2'], '12.aif': ['C2'], '7.aif': ['A6'], '6.aif': ['C5'], '4.aif': ['C4'], 'F4_CathedralOrgan.aif': ['F4'], '5.aif': ['G2', 'D3'], '1.aif': ['C4', 'G4', 'D4'], '2.aif': ['F3'], '3.aif': ['A4']}\n"
     ]
    }
   ],
   "source": [
    "#test = 'C4+A4_PopOrgan.aif'\n",
    "\n",
    "#result = find_notes(freqs, power_spectra[test])\n",
    "\"\"\"cut_off = np.ones(len(freqs))*0.2*np.max(power_spectra['11.aif'])\n",
    "plt.plot(freqs, power_spectra['11.aif'])\n",
    "plt.plot(freqs,cut_off)\n",
    "plt.show()\"\"\"\n",
    "\n",
    "#ind = np.where(power_spectra['11.aif']>cut_off)\n",
    "#print(freqs[ind])\n",
    "#find_notes(freqs,power_spectra['11.aif'])\n",
    "\n",
    "results = {}\n",
    "for key in power_spectra.keys():\n",
    "    \n",
    "    \n",
    "    \n",
    "        \n",
    "    #print(key)\n",
    "    result = find_notes(freqs, power_spectra[key])\n",
    "\n",
    "    results[key] = result\n",
    "\n",
    "\n",
    "print(results)"
   ]
  },
  {
   "cell_type": "code",
   "execution_count": 90,
   "metadata": {},
   "outputs": [
    {
     "name": "stdout",
     "output_type": "stream",
     "text": [
      "{'1.aif': ['C4', 'G4', 'D4'],\n",
      " '10.aif': ['C2'],\n",
      " '11.aif': ['E2'],\n",
      " '12.aif': ['C2'],\n",
      " '2.aif': ['F3'],\n",
      " '3.aif': ['A4'],\n",
      " '4.aif': ['C4'],\n",
      " '5.aif': ['G2', 'D3'],\n",
      " '6.aif': ['C5'],\n",
      " '7.aif': ['A6'],\n",
      " '8.aif': ['F4'],\n",
      " '9.aif': ['G3'],\n",
      " 'A4_PopOrgan.aif': ['A4'],\n",
      " 'C4+A4_PopOrgan.aif': ['C4', 'A4'],\n",
      " 'F3_PopOrgan.aif': ['F3'],\n",
      " 'F4_CathedralOrgan.aif': ['F4']}\n"
     ]
    }
   ],
   "source": [
    "import pprint\n",
    "pprint.pprint(results)"
   ]
  },
  {
   "cell_type": "code",
   "execution_count": 59,
   "metadata": {},
   "outputs": [
    {
     "data": {
      "text/plain": [
       "82.3125"
      ]
     },
     "execution_count": 59,
     "metadata": {},
     "output_type": "execute_result"
    }
   ],
   "source": [
    "np.min([  82.3125,   82.375 ,   82.375 ,   82.4375 , 246.875 ])\n",
    "\n"
   ]
  },
  {
   "cell_type": "code",
   "execution_count": 77,
   "metadata": {},
   "outputs": [
    {
     "data": {
      "text/plain": [
       "0"
      ]
     },
     "execution_count": 77,
     "metadata": {},
     "output_type": "execute_result"
    }
   ],
   "source": []
  },
  {
   "cell_type": "code",
   "execution_count": 15,
   "metadata": {},
   "outputs": [
    {
     "name": "stdout",
     "output_type": "stream",
     "text": [
      "E6\n"
     ]
    }
   ],
   "source": [
    "step = 88\n",
    "notes = ['C','C#','D','D#','E','F','F#','G','G#','A','A#','B']\n",
    "octive_number = step // 12 - 1\n",
    "note_name = step % 12\n",
    "print(notes[note_name]+str(octive_number))\n"
   ]
  },
  {
   "cell_type": "code",
   "execution_count": 22,
   "metadata": {},
   "outputs": [
    {
     "data": {
      "text/plain": [
       "0.1999999999999993"
      ]
     },
     "execution_count": 22,
     "metadata": {},
     "output_type": "execute_result"
    }
   ],
   "source": [
    "12.2 % 2"
   ]
  },
  {
   "cell_type": "code",
   "execution_count": 32,
   "metadata": {},
   "outputs": [
    {
     "data": {
      "text/plain": [
       "5.714285714285714"
      ]
     },
     "execution_count": 32,
     "metadata": {},
     "output_type": "execute_result"
    }
   ],
   "source": [
    "(12/2.1)%1\n"
   ]
  },
  {
   "cell_type": "code",
   "execution_count": 30,
   "metadata": {},
   "outputs": [
    {
     "data": {
      "text/plain": [
       "2"
      ]
     },
     "execution_count": 30,
     "metadata": {},
     "output_type": "execute_result"
    }
   ],
   "source": []
  },
  {
   "cell_type": "code",
   "execution_count": null,
   "metadata": {
    "collapsed": true
   },
   "outputs": [],
   "source": []
  }
 ],
 "metadata": {
  "kernelspec": {
   "display_name": "Python 3",
   "language": "python",
   "name": "python3"
  },
  "language_info": {
   "codemirror_mode": {
    "name": "ipython",
    "version": 3
   },
   "file_extension": ".py",
   "mimetype": "text/x-python",
   "name": "python",
   "nbconvert_exporter": "python",
   "pygments_lexer": "ipython3",
   "version": "3.6.3"
  }
 },
 "nbformat": 4,
 "nbformat_minor": 1
}
