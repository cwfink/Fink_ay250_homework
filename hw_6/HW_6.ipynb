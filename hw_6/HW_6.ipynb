{
 "cells": [
  {
   "cell_type": "code",
   "execution_count": 150,
   "metadata": {},
   "outputs": [],
   "source": [
    "from skimage import feature\n",
    "from skimage.io import imread\n",
    "import matplotlib.pyplot as plt\n",
    "import numpy as np\n",
    "%matplotlib inline\n",
    "import os\n",
    "# pip install imutils\n",
    "# pip install opencv-python\n",
    "import imutils\n",
    "from itertools import combinations"
   ]
  },
  {
   "cell_type": "code",
   "execution_count": 181,
   "metadata": {},
   "outputs": [],
   "source": [
    "def get_features(path,file,lgc_return_label = False):\n",
    "    if lgc_return_label:\n",
    "        label = file.split(\"_\")[0]\n",
    "    else:\n",
    "        label = 'unknown'\n",
    "\n",
    "    filename = path+file\n",
    "    img = imread(filename)\n",
    "\n",
    "    if len(img.shape) != 3:\n",
    "        a = img[:,:]\n",
    "        b = img[:,:]\n",
    "        c = img[:,:]\n",
    "    else:\n",
    "        a = img[:,:,0]\n",
    "        b = img[:,:,1]\n",
    "        c = img[:,:,2]\n",
    "    \n",
    "    ratios = get_ratios(a,b,c)\n",
    "    correlations = get_correlations(a,b,c)\n",
    "    max_norm = get_max_norm(a,b,c)\n",
    "    mean_std = get_mean_std(a,b,c)\n",
    "    \n",
    "    parameters = ratios + correlations + max_norm + mean_std \n",
    "    parameters = np.asarray(parameters)\n",
    "    \n",
    "    \n",
    "    return parameters,label"
   ]
  },
  {
   "cell_type": "code",
   "execution_count": 133,
   "metadata": {
    "collapsed": true
   },
   "outputs": [],
   "source": [
    "def get_ratios(a,b,c):\n",
    "    vals = []\n",
    "    for ii,jj in combinations([a,b,c],2):\n",
    "        vals.append(np.mean(ii)/np.mean(jj))\n",
    "    return vals\n",
    "\n",
    "def get_correlations(a,b,c):\n",
    "    vals = []\n",
    "    for ii,jj in combinations([a,b,c],2):\n",
    "        corr = np.corrcoef(np.ndarray.flatten(ii),np.ndarray.flatten(jj))[0,1]\n",
    "        vals.append(corr)\n",
    "    return vals\n",
    "        \n",
    "def get_max_norm(a,b,c):\n",
    "    vals = []\n",
    "    for ii in [a,b,c]:\n",
    "        vals.append(np.max(ii)/np.mean(ii))\n",
    "    return vals\n",
    "\n",
    "def get_mean_std(a,b,c):\n",
    "    vals = []\n",
    "    for ii in [a,b,c]:\n",
    "        vals.append(np.mean(ii)/np.std(ii))\n",
    "    return vals\n"
   ]
  },
  {
   "cell_type": "code",
   "execution_count": 182,
   "metadata": {},
   "outputs": [],
   "source": [
    "path = '/Users/cwfink/Documents/School/UC_Berkeley/Classes/Spring_2018/AY250/HW/Fink_ay250_homework/hw_6/50_categories/'\n",
    "path = '50_categories/'\n",
    "X = [] \n",
    "Y = []\n",
    "\n",
    "for subdir, dirs, files in os.walk(path):\n",
    "    print(O)\n",
    "    for file in files:\n",
    "        if '.DS_Store' not in file:\n",
    "            x, y = get_features(subdir+'/',file,lgc_return_label = True)\n",
    "            X.append(x)\n",
    "            Y.append(y)\n",
    "\n",
    "\n"
   ]
  },
  {
   "cell_type": "code",
   "execution_count": 149,
   "metadata": {},
   "outputs": [
    {
     "data": {
      "text/plain": [
       "['bat', 'bat', 'bat', 'bat']"
      ]
     },
     "execution_count": 149,
     "metadata": {},
     "output_type": "execute_result"
    }
   ],
   "source": []
  },
  {
   "cell_type": "code",
   "execution_count": 63,
   "metadata": {},
   "outputs": [
    {
     "data": {
      "text/plain": [
       "0.02"
      ]
     },
     "execution_count": 63,
     "metadata": {},
     "output_type": "execute_result"
    }
   ],
   "source": [
    "1/50"
   ]
  },
  {
   "cell_type": "code",
   "execution_count": null,
   "metadata": {
    "collapsed": true
   },
   "outputs": [],
   "source": []
  }
 ],
 "metadata": {
  "kernelspec": {
   "display_name": "Python 3",
   "language": "python",
   "name": "python3"
  },
  "language_info": {
   "codemirror_mode": {
    "name": "ipython",
    "version": 3
   },
   "file_extension": ".py",
   "mimetype": "text/x-python",
   "name": "python",
   "nbconvert_exporter": "python",
   "pygments_lexer": "ipython3",
   "version": "3.6.3"
  }
 },
 "nbformat": 4,
 "nbformat_minor": 2
}
