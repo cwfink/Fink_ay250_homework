{
 "cells": [
  {
   "cell_type": "code",
   "execution_count": 19,
   "metadata": {},
   "outputs": [],
   "source": [
    "from random import uniform\n",
    "from time import time\n",
    "from math import sqrt\n",
    "import numpy as np\n",
    "from multiprocessing import Pool \n",
    "\n",
    "\n",
    "\n",
    "def approximate_pi(number_of_darts):\n",
    "    number_of_darts = int(number_of_darts)\n",
    "\n",
    "    number_of_darts_in_circle = 0\n",
    "\n",
    "    \n",
    "\n",
    "\n",
    "    for n in range(number_of_darts):\n",
    "        x, y = uniform(0,1), uniform(0,1)\n",
    "        if sqrt((x-0.5)**2+(y-0.5)**2) <=0.5:\n",
    "            number_of_darts_in_circle += 1\n",
    "\n",
    "    end_time = time()\n",
    "\n",
    "    execution_time = end_time - start_time\n",
    "\n",
    "    pi_approx = 4 * number_of_darts_in_circle / float(number_of_darts)\n",
    "\n",
    "    darts_per_sec = number_of_darts/execution_time\n",
    "    #print(\"Pi Approximation: \", pi_approx)\n",
    "    #print(\"Number of Darts: \", number_of_darts)\n",
    "    #print(\"Execution time [s]: \", execution_time)\n",
    "    #print(\"Darts Thrown per Second: \", darts_per_sec)\n",
    "    return number_of_darts_in_circle\n",
    "\n",
    "\n",
    "\n",
    "def multi_process(total_number_of_darts, number_of_processes, number_of_MC_trails):\n",
    "    \n",
    "    number_of_darts_per_chunk = total_number_of_darts/number_of_processes\n",
    "    \n",
    "    \n",
    "    pi_array = np.zeros(number_of_MC_trails)\n",
    "    time_array = np.zeros(number_of_MC_trails)\n",
    "    darts_per_sec_array = np.zeros(number_of_MC_trails)\n",
    "    \n",
    "    for iTrial in range(number_of_MC_trails):\n",
    "        \n",
    "        darts_in_circle_array = np.zeros(number_of_processes)\n",
    "\n",
    "        start_time = time()\n",
    "        pool = Pool(processes=number_of_processes)\n",
    "        darts_in_circle = pool.map(approximate_pi, np.ones(number_of_processes)*number_of_darts_per_chunk)\n",
    "        end_time = time()\n",
    "        \n",
    "        execution_time = end_time-start_time\n",
    "        \n",
    "        \n",
    "        pi_array[iTrial] = 4 * sum(darts_in_circle) / total_number_of_darts\n",
    "        time_array[iTrial] = execution_time\n",
    "        darts_per_sec_array[iTrial] = total_number_of_darts/execution_time\n",
    "        \n",
    "    pi = np.mean(pi_array)\n",
    "    pi_std = np.std(pi_array)\n",
    "    \n",
    "    comp_time = np.mean(time_array)\n",
    "    comp_time_std = np.std(time_array)\n",
    "    \n",
    "    darts_per_sec = np.mean(darts_per_sec_array)\n",
    "    darts_per_sec_std = np.std(darts_per_sec_array)\n",
    "    \n",
    "    print(\"Pi Approximation: \", pi, \" +/- \", pi_std)\n",
    "    print(\"Number of Darts: \", number_of_darts)\n",
    "    print(\"Execution time [s]: \", comp_time, \" +/- \", comp_time_std)\n",
    "    print(\"Darts Thrown per Second: \", darts_per_sec, \" +/- \", darts_per_sec_std)\n",
    "    \n",
    "    return pi,pi_std,comp_time,comp_time_std,darts_per_sec,darts_per_sec_std\n",
    "    \n",
    "    \n",
    "        \n",
    "\n"
   ]
  },
  {
   "cell_type": "code",
   "execution_count": 42,
   "metadata": {},
   "outputs": [
    {
     "data": {
      "text/plain": [
       "10"
      ]
     },
     "execution_count": 42,
     "metadata": {},
     "output_type": "execute_result"
    }
   ],
   "source": [
    "pi_serial = list()\n",
    "pi_std_serial = list()\n",
    "comp_time_serial = list()\n",
    "comp_time_std_serial = list()\n",
    "darts_per_sec_serial = list()\n",
    "darts_per_sec_std = list()\n",
    "\n",
    "num_darts = np.logspace(1,7,10)\n",
    "\n",
    "\n",
    "for i in range(num_darts):\n",
    "\n",
    "    multi_process(10e6,2,2)\n"
   ]
  },
  {
   "cell_type": "code",
   "execution_count": 29,
   "metadata": {
    "collapsed": true
   },
   "outputs": [],
   "source": [
    "\n"
   ]
  },
  {
   "cell_type": "code",
   "execution_count": 30,
   "metadata": {},
   "outputs": [
    {
     "data": {
      "text/plain": [
       "list"
      ]
     },
     "execution_count": 30,
     "metadata": {},
     "output_type": "execute_result"
    }
   ],
   "source": []
  },
  {
   "cell_type": "code",
   "execution_count": null,
   "metadata": {
    "collapsed": true
   },
   "outputs": [],
   "source": []
  }
 ],
 "metadata": {
  "kernelspec": {
   "display_name": "Python 3",
   "language": "python",
   "name": "python3"
  },
  "language_info": {
   "codemirror_mode": {
    "name": "ipython",
    "version": 3
   },
   "file_extension": ".py",
   "mimetype": "text/x-python",
   "name": "python",
   "nbconvert_exporter": "python",
   "pygments_lexer": "ipython3",
   "version": "3.6.3"
  }
 },
 "nbformat": 4,
 "nbformat_minor": 2
}
