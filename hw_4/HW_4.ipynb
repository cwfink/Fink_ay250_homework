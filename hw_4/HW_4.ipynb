{
 "cells": [
  {
   "cell_type": "code",
   "execution_count": 3,
   "metadata": {
    "collapsed": true
   },
   "outputs": [],
   "source": [
    "from random import uniform\n",
    "from time import time\n",
    "from math import sqrt\n",
    "import numpy as np\n",
    "from multiprocessing import Pool \n",
    "\n",
    "\n",
    "\n",
    "def approximate_pi(number_of_darts):\n",
    "    number_of_darts = int(number_of_darts)\n",
    "\n",
    "    number_of_darts_in_circle = 0\n",
    "\n",
    "    \n",
    "\n",
    "\n",
    "    for n in range(number_of_darts):\n",
    "        x, y = uniform(0,1), uniform(0,1)\n",
    "        if sqrt((x-0.5)**2+(y-0.5)**2) <=0.5:\n",
    "            number_of_darts_in_circle += 1\n",
    "\n",
    "    #end_time = time()\n",
    "\n",
    "    #execution_time = end_time - start_time\n",
    "\n",
    "    #pi_approx = 4 * number_of_darts_in_circle / float(number_of_darts)\n",
    "\n",
    "    #darts_per_sec = number_of_darts/execution_time\n",
    "    #print(\"Pi Approximation: \", pi_approx)\n",
    "    #print(\"Number of Darts: \", number_of_darts)\n",
    "    #print(\"Execution time [s]: \", execution_time)\n",
    "    #print(\"Darts Thrown per Second: \", darts_per_sec)\n",
    "    return number_of_darts_in_circle\n",
    "\n",
    "\n",
    "\n",
    "def multi_process(total_number_of_darts, number_of_processes, number_of_MC_trails):\n",
    "    \n",
    "    number_of_darts_per_chunk = total_number_of_darts/number_of_processes\n",
    "    \n",
    "    \n",
    "    pi_array = np.zeros(number_of_MC_trails)\n",
    "    time_array = np.zeros(number_of_MC_trails)\n",
    "    darts_per_sec_array = np.zeros(number_of_MC_trails)\n",
    "    \n",
    "    for iTrial in range(number_of_MC_trails):\n",
    "        \n",
    "        darts_in_circle_array = np.zeros(number_of_processes)\n",
    "\n",
    "        start_time = time()\n",
    "        \n",
    "        pool = Pool(processes=number_of_processes)\n",
    "        darts_in_circle = pool.map(approximate_pi, np.ones(number_of_processes)*number_of_darts_per_chunk)\n",
    "\n",
    "        end_time = time()\n",
    "        pool.terminate()\n",
    "        del pool\n",
    "        \n",
    "        execution_time = end_time-start_time\n",
    "        \n",
    "        \n",
    "        pi_array[iTrial] = 4 * sum(darts_in_circle) / total_number_of_darts\n",
    "        time_array[iTrial] = execution_time\n",
    "        darts_per_sec_array[iTrial] = total_number_of_darts/execution_time\n",
    "        \n",
    "    pi = np.mean(pi_array)\n",
    "    pi_std = np.std(pi_array)\n",
    "    \n",
    "    comp_time = np.mean(time_array)\n",
    "    comp_time_std = np.std(time_array)\n",
    "    \n",
    "    darts_per_sec = np.mean(darts_per_sec_array)\n",
    "    darts_per_sec_std = np.std(darts_per_sec_array)\n",
    "    \n",
    "    #print(\"Pi Approximation: \", pi, \" +/- \", pi_std)\n",
    "    #print(\"Number of Darts: \", number_of_darts)\n",
    "    #print(\"Execution time [s]: \", comp_time, \" +/- \", comp_time_std)\n",
    "    #print(\"Darts Thrown per Second: \", darts_per_sec, \" +/- \", darts_per_sec_std)\n",
    "    \n",
    "    results = {'pi' : pi,\n",
    "               'pi_std' : pi_std,\n",
    "               'comp_time' : comp_time,\n",
    "               'comp_time_std' : comp_time_std,\n",
    "               'darts_per_sec' : darts_per_sec,\n",
    "               'darts_per_sec_std' : darts_per_sec_std}\n",
    "    #return pi,pi_std,comp_time,comp_time_std,darts_per_sec,darts_per_sec_std\n",
    "    return results\n",
    "    \n",
    "        \n",
    "\n"
   ]
  },
  {
   "cell_type": "code",
   "execution_count": 2,
   "metadata": {},
   "outputs": [],
   "source": [
    "serial_dict = {}\n",
    "multi_dict = {}\n",
    "results_serial = list()\n",
    "results_multi = list()\n",
    "num_trails = 10\n",
    "num_process = 4\n",
    "\n",
    "\n",
    "num_darts = np.logspace(1,7,10)\n",
    "\n",
    "\n",
    "for iNumber in range(len(num_darts)):\n",
    "\n",
    "    results_serial.append(multi_process(num_darts[iNumber], 1, num_trails))\n",
    "    results_multi.append(multi_process(num_darts[iNumber], num_process, num_trails))\n",
    "\n",
    "    for key in results_serial[0].keys():\n",
    "        serial_dict[key] = list()\n",
    "        multi_dict[key] = list()\n",
    "\n",
    "for ii in range(len(results_serial)):\n",
    "    for key in results_serial[0].keys():\n",
    "        serial_dict[key].append(results_serial[ii][key])\n",
    "        multi_dict[key].append(results_multi[ii][key])\n",
    "        \n",
    "        "
   ]
  },
  {
   "cell_type": "code",
   "execution_count": 8,
   "metadata": {},
   "outputs": [
    {
     "name": "stdout",
     "output_type": "stream",
     "text": [
      "[0.12203364372253418, 0.1214357852935791, 0.12197644710540771, 0.12305557727813721, 0.12242593765258789, 0.12303042411804199, 0.12295875549316407, 0.3261688709259033, 1.3151062726974487, 5.8511659622192385]\n",
      "[0.11150267124176025, 0.11046752929687501, 0.11007494926452636, 0.11206769943237305, 0.11010017395019531, 0.11262457370758057, 0.11316039562225341, 0.53130269050598145, 2.0695785522460937, 9.7349550962448124]\n"
     ]
    }
   ],
   "source": [
    "print(multi_dict['comp_time'])\n",
    "print(serial_dict['comp_time'])\n"
   ]
  },
  {
   "cell_type": "code",
   "execution_count": null,
   "metadata": {},
   "outputs": [],
   "source": []
  },
  {
   "cell_type": "code",
   "execution_count": 9,
   "metadata": {},
   "outputs": [
    {
     "data": {
      "text/plain": [
       "62.5"
      ]
     },
     "execution_count": 9,
     "metadata": {},
     "output_type": "execute_result"
    }
   ],
   "source": [
    "\n",
    "1000/16\n",
    "\n"
   ]
  },
  {
   "cell_type": "code",
   "execution_count": 10,
   "metadata": {},
   "outputs": [
    {
     "data": {
      "text/plain": [
       "992"
      ]
     },
     "execution_count": 10,
     "metadata": {},
     "output_type": "execute_result"
    }
   ],
   "source": [
    "62*16"
   ]
  },
  {
   "cell_type": "code",
   "execution_count": 11,
   "metadata": {},
   "outputs": [
    {
     "data": {
      "text/plain": [
       "62"
      ]
     },
     "execution_count": 11,
     "metadata": {},
     "output_type": "execute_result"
    }
   ],
   "source": [
    "1000//16\n"
   ]
  },
  {
   "cell_type": "code",
   "execution_count": 13,
   "metadata": {},
   "outputs": [
    {
     "data": {
      "text/plain": [
       "62"
      ]
     },
     "execution_count": 13,
     "metadata": {},
     "output_type": "execute_result"
    }
   ],
   "source": [
    "int(62.9)"
   ]
  },
  {
   "cell_type": "code",
   "execution_count": null,
   "metadata": {
    "collapsed": true
   },
   "outputs": [],
   "source": []
  }
 ],
 "metadata": {
  "kernelspec": {
   "display_name": "Python 3",
   "language": "python",
   "name": "python3"
  },
  "language_info": {
   "codemirror_mode": {
    "name": "ipython",
    "version": 3
   },
   "file_extension": ".py",
   "mimetype": "text/x-python",
   "name": "python",
   "nbconvert_exporter": "python",
   "pygments_lexer": "ipython3",
   "version": "3.6.3"
  }
 },
 "nbformat": 4,
 "nbformat_minor": 2
}
