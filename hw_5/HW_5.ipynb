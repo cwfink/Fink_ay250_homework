{
 "cells": [
  {
   "cell_type": "code",
   "execution_count": 2,
   "metadata": {
    "collapsed": true
   },
   "outputs": [],
   "source": [
    "#Import nessesary libraries\n",
    "\n",
    "import pandas as pd\n",
    "import sqlite3\n",
    "from urllib.request import urlopen\n",
    "from bs4 import BeautifulSoup\n",
    "from datetime import datetime\n",
    "import numpy as np\n",
    "from itertools import permutations\n",
    "from collections import OrderedDict\n",
    "from datetime import timedelta\n",
    "\n",
    "# pip install geopy #This is used to calculate distance based on lat and long... no need to reinvent the wheel...\n",
    "\n",
    "from geopy.distance import great_circle\n",
    "\n",
    "import matplotlib.pyplot as plt\n",
    "%matplotlib inline\n",
    "\n"
   ]
  },
  {
   "cell_type": "code",
   "execution_count": 34,
   "metadata": {
    "collapsed": true
   },
   "outputs": [],
   "source": [
    "#Read in top airport data from supplied files\n",
    "path = 'hw_5_data/'\n",
    "#db_name = 'airports2.db'\n",
    "db_name = 'airport_db'\n",
    "top_airpots = pd.read_csv(path+'top_airports.csv' )\n",
    "airport_info = pd.read_csv(path+'ICAO_airports.csv' )\n",
    "\n"
   ]
  },
  {
   "cell_type": "code",
   "execution_count": 3,
   "metadata": {},
   "outputs": [],
   "source": [
    "\n",
    "airport_info['ICAO'] = airport_info['ident']\n",
    "combined_info = top_airpots.merge(airport_info, on='ICAO')\n",
    "\n",
    "\n"
   ]
  },
  {
   "cell_type": "markdown",
   "metadata": {},
   "source": [
    "$\\textbf{Make SQL tables}$"
   ]
  },
  {
   "cell_type": "code",
   "execution_count": 35,
   "metadata": {
    "collapsed": true
   },
   "outputs": [],
   "source": [
    "connection = sqlite3.connect(path+db_name)\n",
    "cursor = connection.cursor()\n",
    "\n",
    "#Create a table for the airport info and a table for the corresponding weather\n",
    "sql_info_cmd = \"\"\"CREATE TABLE info (\n",
    "    id INTEGER PRIMARY KEY AUTOINCREMENT,\n",
    "    ICAO TEXT,\n",
    "    name TEXT,\n",
    "    city TEXT,\n",
    "    latitude_deg FLOAT,\n",
    "    longitude_deg FLOAT,\n",
    "    elevation FLOAT,\n",
    "    enplanements INT)\"\"\"\n",
    "\n",
    "\n",
    "sql_weather_cmd = \"\"\"CREATE TABLE weather (\n",
    "    id INTEGER PRIMARY KEY AUTOINCREMENT,\n",
    "    ICAO TEXT,\n",
    "    date DATE,\n",
    "    temp_high FLOAT,\n",
    "    temp_ave FLOAT,\n",
    "    temp_low FLOAT,\n",
    "    humidity_ave FLOAT,\n",
    "    precipitation FLOAT)\"\"\"\n",
    "\n",
    "cursor.execute(sql_info_cmd)\n",
    "cursor.execute(sql_weather_cmd)\n",
    "connection.commit()"
   ]
  },
  {
   "cell_type": "markdown",
   "metadata": {},
   "source": [
    "$\\textbf{Scrape data from weather underground}$"
   ]
  },
  {
   "cell_type": "code",
   "execution_count": 54,
   "metadata": {},
   "outputs": [
    {
     "data": {
      "text/plain": [
       "[['2013/2/11', '2014/2/11'],\n",
       " ['2014/2/12', '2015/2/11'],\n",
       " ['2015/2/12', '2016/2/11'],\n",
       " ['2016/2/12', '2017/2/11'],\n",
       " ['2017/2/12', '2018/2/11'],\n",
       " ['2018/2/11', '2018/3/11']]"
      ]
     },
     "execution_count": 54,
     "metadata": {},
     "output_type": "execute_result"
    }
   ],
   "source": [
    "# Helper functions to format dates and get date range to request data\n",
    "\n",
    "\n",
    "def inc_by_year(date):\n",
    "    '''\n",
    "    Helper function to incriment a given date by one year,\n",
    "    expects to be in format %Y/%m/%d\n",
    "    '''\n",
    "    date_temp = date.split('/')\n",
    "    year_inc = str(int(date_temp[0])+1)\n",
    "    new_date = '{}/{}/{}'.format(year_inc, date_temp[1], date_temp[2])\n",
    "    return new_date\n",
    "\n",
    "def inc_by_day(date):\n",
    "    '''\n",
    "    Helper function to incriment a given date by one day,\n",
    "    expects to be in format %Y/%m/%d\n",
    "    '''\n",
    "    date_temp = date.split('/')\n",
    "    day_inc = str(int(date_temp[2])+1)\n",
    "    new_date = '{}/{}/{}'.format(date_temp[0], date_temp[1], day_inc)\n",
    "    return new_date\n",
    "\n",
    "\n",
    "def get_date_range_to_query(date_start,date_end):\n",
    "    '''\n",
    "    Weatherunderground historical data only returns a years worth of data at a time,\n",
    "    this function takes the users defined date range, and returns a list of start and end dates divided\n",
    "    into year long chunks. \n",
    "    '''\n",
    "    if date_end == 'today':\n",
    "        today = datetime.now()\n",
    "        date_end = '{}/{}/{}'.format(today.year, today.month, today.day)\n",
    "    \n",
    "    date_range = list()\n",
    "    dates_temp_list = list()\n",
    "    \n",
    "    dates_temp_list.append(date_start)\n",
    "    \n",
    "    date_delta = (datetime.strptime(date_end, '%Y/%m/%d') - datetime.strptime(date_start, '%Y/%m/%d'))\n",
    "    date_delta_years = int(date_delta.total_seconds()/(60*60*24*365.2425))\n",
    "    \n",
    "    for iyear in range(date_delta_years):\n",
    "        temp_date = inc_by_year(dates_temp_list[iyear])\n",
    "        dates_temp_list.append(temp_date)\n",
    "        \n",
    "    lgc_first_interation = True    \n",
    "    \n",
    "    for idate in range(len(dates_temp_list)):\n",
    "        if lgc_first_interation:\n",
    "            try:\n",
    "                date_range.append([dates_temp_list[idate],dates_temp_list[idate+1]])\n",
    "            except:\n",
    "                date_range.append([dates_temp_list[idate],date_end])           \n",
    "        else:\n",
    "            try:\n",
    "                date_range.append([inc_by_day(dates_temp_list[idate]),dates_temp_list[idate+1]])\n",
    "            except:\n",
    "                date_range.append([dates_temp_list[idate],date_end])\n",
    "        lgc_first_interation = False  \n",
    "    \n",
    "    return date_range\n",
    "\n",
    "\n",
    "get_date_range_to_query(date_start,date_end='today')\n",
    "    \n",
    "    \n",
    "    "
   ]
  },
  {
   "cell_type": "code",
   "execution_count": null,
   "metadata": {
    "collapsed": true
   },
   "outputs": [],
   "source": []
  },
  {
   "cell_type": "code",
   "execution_count": 4,
   "metadata": {
    "collapsed": true
   },
   "outputs": [],
   "source": [
    "def get_data_from_db(db_name, path, sql_cmd):\n",
    "        connection = sqlite3.connect(path+db_name)\n",
    "        cursor = connection.cursor()\n",
    "        connection.row_factory = lambda cursor, row: row[0]\n",
    "        c = connection.cursor()\n",
    "        data = c.execute(sql_cmd).fetchall()\n",
    "        connection.close()\n",
    "        return data\n",
    "    "
   ]
  },
  {
   "cell_type": "code",
   "execution_count": 18,
   "metadata": {},
   "outputs": [],
   "source": [
    "\n",
    "\n",
    "#Create dictionary to hold all the correlation data\n",
    "airport_pairs_dict = {}\n",
    "column_names = ['Airport_pairs','highT_1','highT_3','highT_7',\\\n",
    "                'precip_1','precip_3','precip_7','dist','long_delta' ]\n",
    "for key in column_names: \n",
    "    airport_pairs_dict[key] = list()\n",
    "    \n",
    "    \n",
    "\n",
    "###Get airport codes from database\n",
    "sql_cmd = \"SELECT ICAO FROM airport_info\"\n",
    "airport_code = get_data_from_db(db_name,path, sql_cmd)\n",
    "\n",
    "indx = 0\n",
    "\n",
    "##### temporary code to eliminate bad files in database ###\n",
    "bad_airport = np.array(['KIAH','KLGA','KMSY','KIND'])\n",
    "airport_code = np.asarray(airport_code)\n",
    "cuts = np.ones(shape=airport_code.shape, dtype=bool)\n",
    "bad_indx = np.where(airport_code == 'KIAH')#np.array([word for word in bad_airport]))\n",
    "cuts[bad_indx] = 0\n",
    "bad_indx = np.where(airport_code == 'KLGA')#[word for word in bad_airport])\n",
    "cuts[bad_indx] = 0\n",
    "bad_indx = np.where(airport_code == 'KMSY')#[word for word in bad_airport])\n",
    "cuts[bad_indx] = 0\n",
    "bad_indx = np.where(airport_code == 'KIND')#[word for word in bad_airport])\n",
    "cuts[bad_indx] = 0\n",
    "\n",
    "\n",
    "### calculate the correlations for all permutations of airports\n",
    "for combo in permutations(airport_code[cuts],2):\n",
    "    \n",
    "    indx += 1\n",
    "    \n",
    "    sql_cmd_highT_1 = \"SELECT high_temp FROM airport_weather where ICAO = \" + '\"' + str(combo[0] + '\"')\n",
    "    sql_cmd_highT_2 = \"SELECT high_temp FROM airport_weather where ICAO = \" + '\"' + str(combo[1] + '\"')\n",
    "    \n",
    "    sql_cmd_precip_1 = \"SELECT precipitation FROM airport_weather where ICAO = \" + '\"' + str(combo[0] + '\"')\n",
    "    sql_cmd_precip_2 = \"SELECT precipitation FROM airport_weather where ICAO = \" + '\"' + str(combo[1] + '\"')\n",
    "    \n",
    "    sql_cmd_lat_1 = \"SELECT latitude_deg FROM airport_info where ICAO = \" + '\"' + str(combo[0] + '\"')\n",
    "    sql_cmd_lat_2 = \"SELECT latitude_deg FROM airport_info where ICAO = \" + '\"' + str(combo[1] + '\"')\n",
    "    \n",
    "    sql_cmd_long_1 = \"SELECT longitude_deg FROM airport_info where ICAO = \" + '\"' + str(combo[0] + '\"')\n",
    "    sql_cmd_long_2 = \"SELECT longitude_deg FROM airport_info where ICAO = \" + '\"' + str(combo[1] + '\"')\n",
    "    \n",
    "\n",
    "    high_temp_1 = get_data_from_db(db_name,path,sql_cmd_highT_1)\n",
    "    high_temp_2 = get_data_from_db(db_name,path,sql_cmd_highT_2)\n",
    "    \n",
    "    precip_1 = get_data_from_db(db_name,path,sql_cmd_precip_1)\n",
    "    precip_2 = get_data_from_db(db_name,path,sql_cmd_precip_2)\n",
    "    \n",
    "    lat_1 = get_data_from_db(db_name,path,sql_cmd_lat_1)[0]\n",
    "    lat_2 = get_data_from_db(db_name,path,sql_cmd_lat_2)[0]\n",
    "    \n",
    "    long_1 = get_data_from_db(db_name,path,sql_cmd_long_1)[0]\n",
    "    long_2 = get_data_from_db(db_name,path,sql_cmd_long_2)[0]\n",
    "    \n",
    "    \n",
    "    one_highT_coeff   = np.corrcoef(high_temp_1[:-1],high_temp_2[1:])[0,1]\n",
    "    three_highT_coeff = np.corrcoef(high_temp_1[:-3],high_temp_2[3:])[0,1]\n",
    "    seven_highT_coeff = np.corrcoef(high_temp_1[:-7],high_temp_2[7:])[0,1]\n",
    "    \n",
    "    one_precip_coeff   = np.corrcoef(precip_1[:-1],precip_2[1:])[0,1]\n",
    "    three_precip_coeff = np.corrcoef(precip_1[:-3],precip_2[3:])[0,1]\n",
    "    seven_precip_coeff = np.corrcoef(precip_1[:-7],precip_2[7:])[0,1]\n",
    "    \n",
    "    long_delta = long_2-long_1\n",
    "    \n",
    "    distance = great_circle((lat_1,long_1),(lat_2,long_2)).miles\n",
    "    \n",
    "\n",
    "    airport_pairs_dict['Airport_pairs'].append(combo)\n",
    "    airport_pairs_dict['highT_1'].append(one_highT_coeff)\n",
    "    airport_pairs_dict['highT_3'].append(three_highT_coeff)\n",
    "    airport_pairs_dict['highT_7'].append(seven_highT_coeff)\n",
    "    airport_pairs_dict['precip_1'].append(one_precip_coeff)\n",
    "    airport_pairs_dict['precip_3'].append(three_precip_coeff)\n",
    "    airport_pairs_dict['precip_7'].append(seven_precip_coeff)\n",
    "    airport_pairs_dict['dist'].append(distance)\n",
    "    airport_pairs_dict['long_delta'].append(long_delta)\n",
    "    \n",
    "    \n",
    "pairs_df = pd.DataFrame.from_dict(airport_pairs_dict).set_index('Airport_pairs') \n",
    "\n",
    "    \n",
    "    \n",
    "\n",
    "    \n",
    "    "
   ]
  },
  {
   "cell_type": "code",
   "execution_count": 19,
   "metadata": {},
   "outputs": [
    {
     "data": {
      "image/png": "[encoded data removed]",
      "text/plain": [
       "<matplotlib.figure.Figure at 0x1210604a8>"
      ]
     },
     "metadata": {},
     "output_type": "display_data"
    }
   ],
   "source": [
    "def plot_results(df):\n",
    "    x_val = ['long_delta','dist']\n",
    "    y_val = ['highT_1','highT_3','highT_7','precip_1','precip_3','precip_7']\n",
    "    \n",
    "    fig, ax = plt.subplots(1, len(x_val), figsize = (12, 3 * len(x_val)))\n",
    "    \n",
    "    for ii in range(len(x_val)):\n",
    "        for jj in range(len(y_val)):\n",
    "            \n",
    "            ax[ii].set_xlabel(x_val[ii])\n",
    "            ax[ii].set_ylabel('Correlation coefficien')\n",
    "            \n",
    "            df_sort = df.sort_values(by = y_val[jj], ascending=False)[:10]\n",
    "            \n",
    "            ax[ii].plot(df_sort[x_val[ii]], df_sort[y_val[jj]], '*', label = y_val[jj])\n",
    "            ax[ii].legend(loc = 'best')\n",
    "            \n",
    "    plt.tight_layout()\n",
    "    \n",
    "    \n",
    "    \n",
    "    \n",
    "    \n",
    "    \n",
    "    \n",
    "    \n",
    "    \n",
    "    \n",
    "plot_results(pairs_df)\n"
   ]
  },
  {
   "cell_type": "code",
   "execution_count": 33,
   "metadata": {},
   "outputs": [
    {
     "data": {
      "text/plain": [
       "OrderedDict([('day_of_month', 0),\n",
       "             ('temp_high', 1),\n",
       "             ('temp_ave', 2),\n",
       "             ('temp_low', 3),\n",
       "             ('humidity_ave', 8),\n",
       "             ('precipitation', 19)])"
      ]
     },
     "execution_count": 33,
     "metadata": {},
     "output_type": "execute_result"
    }
   ],
   "source": [
    "\n",
    "#the location and \n",
    "data_needed = OrderedDict({'day_of_month': 0, 'temp_high': 1, 'temp_ave': 2, 'temp_low': 3,\n",
    "                                    'humidity_ave': 8, 'precipitation': 19})\n",
    "data_needed"
   ]
  },
  {
   "cell_type": "code",
   "execution_count": 31,
   "metadata": {
    "collapsed": true
   },
   "outputs": [],
   "source": []
  },
  {
   "cell_type": "code",
   "execution_count": null,
   "metadata": {
    "collapsed": true
   },
   "outputs": [],
   "source": []
  }
 ],
 "metadata": {
  "kernelspec": {
   "display_name": "Python 3",
   "language": "python",
   "name": "python3"
  },
  "language_info": {
   "codemirror_mode": {
    "name": "ipython",
    "version": 3
   },
   "file_extension": ".py",
   "mimetype": "text/x-python",
   "name": "python",
   "nbconvert_exporter": "python",
   "pygments_lexer": "ipython3",
   "version": "3.6.3"
  }
 },
 "nbformat": 4,
 "nbformat_minor": 2
}
